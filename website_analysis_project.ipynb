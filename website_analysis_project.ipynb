{
 "cells": [
  {
   "cell_type": "markdown",
   "id": "6ff56010",
   "metadata": {},
   "source": [
    "\n",
    "# Project: Analysis of Website Color Scheme Impact on Visitor Duration\n",
    "\n",
    "## Project Scope\n",
    "This project aims to determine whether a new brightly colored version of a website leads to increased visitor engagement time compared to the old version. We will use statistical hypothesis testing to analyze the data collected from 100 site visitors.\n",
    "\n",
    "## Goals\n",
    "- To understand whether the new color scheme significantly affects the time visitors spend on the site.\n",
    "- To perform a two-sample t-test to compare the average time spent on the old and new versions of the website.\n",
    "- To interpret the results and provide actionable insights based on the findings.\n",
    "\n",
    "## Dataset\n",
    "The dataset includes time in minutes that visitors spent on the old and new versions of the website.\n",
    "\n",
    "Let's start by loading the dataset and exploring the data.\n"
   ]
  },
  {
   "cell_type": "code",
   "execution_count": 4,
   "id": "9576c16e",
   "metadata": {},
   "outputs": [
    {
     "data": {
      "text/html": [
       "<div>\n",
       "<style scoped>\n",
       "    .dataframe tbody tr th:only-of-type {\n",
       "        vertical-align: middle;\n",
       "    }\n",
       "\n",
       "    .dataframe tbody tr th {\n",
       "        vertical-align: top;\n",
       "    }\n",
       "\n",
       "    .dataframe thead th {\n",
       "        text-align: right;\n",
       "    }\n",
       "</style>\n",
       "<table border=\"1\" class=\"dataframe\">\n",
       "  <thead>\n",
       "    <tr style=\"text-align: right;\">\n",
       "      <th></th>\n",
       "      <th>time_minutes</th>\n",
       "      <th>version</th>\n",
       "    </tr>\n",
       "  </thead>\n",
       "  <tbody>\n",
       "    <tr>\n",
       "      <th>0</th>\n",
       "      <td>11.92</td>\n",
       "      <td>new</td>\n",
       "    </tr>\n",
       "    <tr>\n",
       "      <th>1</th>\n",
       "      <td>12.90</td>\n",
       "      <td>old</td>\n",
       "    </tr>\n",
       "    <tr>\n",
       "      <th>2</th>\n",
       "      <td>13.76</td>\n",
       "      <td>old</td>\n",
       "    </tr>\n",
       "    <tr>\n",
       "      <th>3</th>\n",
       "      <td>15.68</td>\n",
       "      <td>old</td>\n",
       "    </tr>\n",
       "    <tr>\n",
       "      <th>4</th>\n",
       "      <td>16.28</td>\n",
       "      <td>old</td>\n",
       "    </tr>\n",
       "  </tbody>\n",
       "</table>\n",
       "</div>"
      ],
      "text/plain": [
       "   time_minutes version\n",
       "0         11.92     new\n",
       "1         12.90     old\n",
       "2         13.76     old\n",
       "3         15.68     old\n",
       "4         16.28     old"
      ]
     },
     "execution_count": 4,
     "metadata": {},
     "output_type": "execute_result"
    }
   ],
   "source": [
    "\n",
    "import pandas as pd\n",
    "\n",
    "# Load the dataset\n",
    "data = pd.read_csv('version_time.csv')\n",
    "\n",
    "# Display the first few rows of the dataset\n",
    "data.head()\n"
   ]
  },
  {
   "cell_type": "markdown",
   "id": "09b87306",
   "metadata": {},
   "source": [
    "\n",
    "The dataset contains the following columns:\n",
    "\n",
    "- `time_minutes`: The time spent by a visitor on the website (in minutes).\n",
    "- `version`: The version of the website the visitor saw (either 'old' or 'new').\n",
    "\n",
    "Now, let's separate the data into two groups: one for the old version and one for the new version.\n"
   ]
  },
  {
   "cell_type": "code",
   "execution_count": 7,
   "id": "da2a4e6a",
   "metadata": {},
   "outputs": [
    {
     "data": {
      "text/plain": [
       "(count    50.000000\n",
       " mean     23.530000\n",
       " std       5.043433\n",
       " min      12.900000\n",
       " 25%      20.442500\n",
       " 50%      23.225000\n",
       " 75%      26.005000\n",
       " max      34.880000\n",
       " Name: time_minutes, dtype: float64,\n",
       " count    50.000000\n",
       " mean     26.884000\n",
       " std       5.529169\n",
       " min      11.920000\n",
       " 25%      22.515000\n",
       " 50%      27.255000\n",
       " 75%      30.940000\n",
       " max      37.290000\n",
       " Name: time_minutes, dtype: float64)"
      ]
     },
     "execution_count": 7,
     "metadata": {},
     "output_type": "execute_result"
    }
   ],
   "source": [
    "\n",
    "# Separate the data into two groups\n",
    "old = data.time_minutes[data.version == 'old']\n",
    "new = data.time_minutes[data.version == 'new']\n",
    "\n",
    "# Display basic statistics for both groups\n",
    "old.describe(), new.describe()\n"
   ]
  },
  {
   "cell_type": "markdown",
   "id": "3280c54b",
   "metadata": {},
   "source": [
    "\n",
    "The statistics above provide an initial understanding of the data distribution for the old and new versions of the website.\n",
    "\n",
    "Next, we will visualize the distributions of time spent on the old and new versions using a histogram.\n"
   ]
  },
  {
   "cell_type": "code",
   "execution_count": 10,
   "id": "712e72f1",
   "metadata": {},
   "outputs": [
    {
     "data": {
      "image/png": "[encoded data removed]",
      "text/plain": [
       "<Figure size 1000x600 with 1 Axes>"
      ]
     },
     "metadata": {},
     "output_type": "display_data"
    }
   ],
   "source": [
    "\n",
    "import matplotlib.pyplot as plt\n",
    "\n",
    "# Plot histograms of the two groups\n",
    "plt.figure(figsize=(10, 6))\n",
    "plt.hist(old, bins=15, alpha=0.5, label='Old Version', color='blue')\n",
    "plt.hist(new, bins=15, alpha=0.5, label='New Version', color='orange')\n",
    "plt.xlabel('Time Spent on Website (minutes)')\n",
    "plt.ylabel('Number of Visitors')\n",
    "plt.title('Distribution of Time Spent on Website by Version')\n",
    "plt.legend()\n",
    "plt.show()\n"
   ]
  },
  {
   "cell_type": "markdown",
   "id": "52fd886b",
   "metadata": {},
   "source": [
    "\n",
    "The histogram above shows the distribution of time spent by visitors on the old and new versions of the website.\n",
    "\n",
    "There appears to be some overlap between the two distributions, but the new version seems to have a slight shift towards longer time spent. We will quantify this observation using a two-sample t-test.\n"
   ]
  },
  {
   "cell_type": "code",
   "execution_count": 13,
   "id": "a84ec082",
   "metadata": {},
   "outputs": [
    {
     "data": {
      "text/plain": [
       "0.0020408264429904"
      ]
     },
     "execution_count": 13,
     "metadata": {},
     "output_type": "execute_result"
    }
   ],
   "source": [
    "\n",
    "from scipy.stats import ttest_ind\n",
    "\n",
    "# Run the two-sample t-test\n",
    "tstat, pval = ttest_ind(old, new)\n",
    "\n",
    "# Output the p-value\n",
    "pval\n"
   ]
  },
  {
   "cell_type": "markdown",
   "id": "df52d818",
   "metadata": {},
   "source": [
    "\n",
    "The p-value from the t-test indicates whether there is a statistically significant difference between the time spent on the old and new versions of the website.\n",
    "\n",
    "Using a significance threshold of 0.05, we can determine whether to reject the null hypothesis.\n"
   ]
  },
  {
   "cell_type": "code",
   "execution_count": 16,
   "id": "e18b5d6d",
   "metadata": {},
   "outputs": [
    {
     "data": {
      "text/plain": [
       "True"
      ]
     },
     "execution_count": 16,
     "metadata": {},
     "output_type": "execute_result"
    }
   ],
   "source": [
    "\n",
    "# Determine significance\n",
    "significant = pval < 0.05\n",
    "significant\n"
   ]
  },
  {
   "cell_type": "markdown",
   "id": "c82c7405",
   "metadata": {},
   "source": [
    "\n",
    "## Conclusion\n",
    "\n",
    "Based on the p-value obtained from the t-test, we conclude that:\n",
    "- If `significant` is `True`, the new version of the website has a statistically significant impact on the time visitors spend on the site.\n",
    "- If `significant` is `False`, there is no statistically significant difference in time spent between the old and new versions of the website.\n",
    "\n",
    "This analysis provides valuable insights into the effectiveness of the new color scheme in increasing visitor engagement.\n"
   ]
  }
 ],
 "metadata": {
  "kernelspec": {
   "display_name": "Python 3 (ipykernel)",
   "language": "python",
   "name": "python3"
  },
  "language_info": {
   "codemirror_mode": {
    "name": "ipython",
    "version": 3
   },
   "file_extension": ".py",
   "mimetype": "text/x-python",
   "name": "python",
   "nbconvert_exporter": "python",
   "pygments_lexer": "ipython3",
   "version": "3.11.7"
  }
 },
 "nbformat": 4,
 "nbformat_minor": 5
}
